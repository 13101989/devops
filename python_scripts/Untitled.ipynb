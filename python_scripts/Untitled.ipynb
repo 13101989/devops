{
 "cells": [
  {
   "cell_type": "code",
   "execution_count": 7,
   "id": "f293f1b2-cc40-44a2-8c96-55bb2251d6fa",
   "metadata": {},
   "outputs": [],
   "source": [
    "#variable\n",
    "x = 1\n",
    "y = 2.00"
   ]
  },
  {
   "cell_type": "code",
   "execution_count": 8,
   "id": "eb814c03-8b23-46ca-b108-1f6a02a803c7",
   "metadata": {},
   "outputs": [
    {
     "data": {
      "text/plain": [
       "1"
      ]
     },
     "execution_count": 8,
     "metadata": {},
     "output_type": "execute_result"
    }
   ],
   "source": [
    "x"
   ]
  },
  {
   "cell_type": "code",
   "execution_count": 9,
   "id": "0b219966-21a0-41d5-8ab3-e9399c0f0bfc",
   "metadata": {},
   "outputs": [
    {
     "data": {
      "text/plain": [
       "2.0"
      ]
     },
     "execution_count": 9,
     "metadata": {},
     "output_type": "execute_result"
    }
   ],
   "source": [
    "y"
   ]
  },
  {
   "cell_type": "code",
   "execution_count": null,
   "id": "92991a49-0fb4-46da-80dc-645c586f46bb",
   "metadata": {},
   "outputs": [],
   "source": []
  }
 ],
 "metadata": {
  "kernelspec": {
   "display_name": "Python 3 (ipykernel)",
   "language": "python",
   "name": "python3"
  },
  "language_info": {
   "codemirror_mode": {
    "name": "ipython",
    "version": 3
   },
   "file_extension": ".py",
   "mimetype": "text/x-python",
   "name": "python",
   "nbconvert_exporter": "python",
   "pygments_lexer": "ipython3",
   "version": "3.10.12"
  }
 },
 "nbformat": 4,
 "nbformat_minor": 5
}
